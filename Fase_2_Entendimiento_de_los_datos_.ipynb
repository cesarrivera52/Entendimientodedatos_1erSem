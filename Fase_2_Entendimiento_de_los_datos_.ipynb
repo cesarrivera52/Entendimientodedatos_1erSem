{
  "nbformat": 4,
  "nbformat_minor": 0,
  "metadata": {
    "colab": {
      "provenance": [],
      "authorship_tag": "ABX9TyPLUGJapkpE5SC6ZUx9NFq6",
      "include_colab_link": true
    },
    "kernelspec": {
      "name": "python3",
      "display_name": "Python 3"
    },
    "language_info": {
      "name": "python"
    }
  },
  "cells": [
    {
      "cell_type": "markdown",
      "metadata": {
        "id": "view-in-github",
        "colab_type": "text"
      },
      "source": [
        "<a href=\"https://colab.research.google.com/github/cesarrivera52/Entendimientodedatos_1erSem/blob/main/Fase_2_Entendimiento_de_los_datos_.ipynb\" target=\"_parent\"><img src=\"https://colab.research.google.com/assets/colab-badge.svg\" alt=\"Open In Colab\"/></a>"
      ]
    },
    {
      "cell_type": "code",
      "metadata": {
        "id": "FiZwKSnGl9YP"
      },
      "source": [],
      "execution_count": null,
      "outputs": []
    },
    {
      "cell_type": "markdown",
      "metadata": {
        "id": "NDkd1YZVt7_z"
      },
      "source": [
        "César Alejandro Rivera Guzmán\n",
        "\n",
        "A01567012\n",
        "\n",
        "German Dominguez\n",
        "\n",
        "Matemáticas y ciencia de datos para la toma de decisiones"
      ]
    },
    {
      "cell_type": "markdown",
      "metadata": {
        "id": "ceIaNZzVmZWG"
      },
      "source": [
        "Fase 2\n",
        "Parte 1\n"
      ]
    },
    {
      "cell_type": "code",
      "metadata": {
        "id": "r7NZpzItmaX3"
      },
      "source": [
        "import pandas as pd\n",
        "datos_consumo = pd.read_excel('A01567012_Actividad5_Registro (1).xlsx')\n"
      ],
      "execution_count": null,
      "outputs": []
    },
    {
      "cell_type": "code",
      "metadata": {
        "colab": {
          "base_uri": "https://localhost:8080/",
          "height": 479
        },
        "id": "aBGtR0I0njhg",
        "outputId": "32fa55c8-6e72-4b39-9cbc-21c06cd68800"
      },
      "source": [
        "datos_consumo.head()\n",
        "\n"
      ],
      "execution_count": null,
      "outputs": [
        {
          "output_type": "execute_result",
          "data": {
            "text/html": [
              "<div>\n",
              "<style scoped>\n",
              "    .dataframe tbody tr th:only-of-type {\n",
              "        vertical-align: middle;\n",
              "    }\n",
              "\n",
              "    .dataframe tbody tr th {\n",
              "        vertical-align: top;\n",
              "    }\n",
              "\n",
              "    .dataframe thead th {\n",
              "        text-align: right;\n",
              "    }\n",
              "</style>\n",
              "<table border=\"1\" class=\"dataframe\">\n",
              "  <thead>\n",
              "    <tr style=\"text-align: right;\">\n",
              "      <th></th>\n",
              "      <th>Fecha (dd/mm/aa)</th>\n",
              "      <th>Momento</th>\n",
              "      <th>Nombre alimento</th>\n",
              "      <th>Calorías (kcal)</th>\n",
              "      <th>Carbohidratos (g)</th>\n",
              "      <th>Lípidos/grasas (g)</th>\n",
              "      <th>Proteína (g)</th>\n",
              "      <th>Sodio (mg)</th>\n",
              "      <th>https://www.fatsecret.com.mx/calor%C3%ADas-nutrici%C3%B3n/</th>\n",
              "      <th>Unnamed: 9</th>\n",
              "      <th>Unnamed: 10</th>\n",
              "      <th>Unnamed: 11</th>\n",
              "    </tr>\n",
              "  </thead>\n",
              "  <tbody>\n",
              "    <tr>\n",
              "      <th>0</th>\n",
              "      <td>2021-08-16</td>\n",
              "      <td>Desayuno</td>\n",
              "      <td>3 huevos, 4 tortillas de maiz, 50 g de espinacas</td>\n",
              "      <td>307.5</td>\n",
              "      <td>7.78</td>\n",
              "      <td>19.08</td>\n",
              "      <td>23.35</td>\n",
              "      <td>1479.5</td>\n",
              "      <td>https://calcuonline.com/calculadoras/calculado...</td>\n",
              "      <td>NaN</td>\n",
              "      <td>NaN</td>\n",
              "      <td>NaN</td>\n",
              "    </tr>\n",
              "    <tr>\n",
              "      <th>1</th>\n",
              "      <td>2021-08-16</td>\n",
              "      <td>Snack</td>\n",
              "      <td>Nieve de yogurt</td>\n",
              "      <td>87.0</td>\n",
              "      <td>12.36</td>\n",
              "      <td>2.87</td>\n",
              "      <td>3.10</td>\n",
              "      <td>159.0</td>\n",
              "      <td>https://calcuonline.com/calculadoras/calculado...</td>\n",
              "      <td>NaN</td>\n",
              "      <td>Nombre:</td>\n",
              "      <td>Tu nombre</td>\n",
              "    </tr>\n",
              "    <tr>\n",
              "      <th>2</th>\n",
              "      <td>2021-08-16</td>\n",
              "      <td>comida</td>\n",
              "      <td>Bola de arroz</td>\n",
              "      <td>806.7</td>\n",
              "      <td>169.66</td>\n",
              "      <td>6.67</td>\n",
              "      <td>13.70</td>\n",
              "      <td>166.0</td>\n",
              "      <td>https://calcuonline.com/calculadoras/calculado...</td>\n",
              "      <td>NaN</td>\n",
              "      <td>NaN</td>\n",
              "      <td>NaN</td>\n",
              "    </tr>\n",
              "    <tr>\n",
              "      <th>3</th>\n",
              "      <td>2021-08-16</td>\n",
              "      <td>cena</td>\n",
              "      <td>Elotes con maruchan</td>\n",
              "      <td>118.0</td>\n",
              "      <td>27.67</td>\n",
              "      <td>1.22</td>\n",
              "      <td>4.31</td>\n",
              "      <td>1496.0</td>\n",
              "      <td>https://calcuonline.com/calculadoras/calculado...</td>\n",
              "      <td>NaN</td>\n",
              "      <td>Momento de consumo:</td>\n",
              "      <td>Indicar el momento de consumo en la tabla</td>\n",
              "    </tr>\n",
              "    <tr>\n",
              "      <th>4</th>\n",
              "      <td>2021-08-17</td>\n",
              "      <td>desayuno</td>\n",
              "      <td>3 huevos, 2 rebanadas de jamón y 1 papa</td>\n",
              "      <td>296.2</td>\n",
              "      <td>11.08</td>\n",
              "      <td>15.78</td>\n",
              "      <td>18.16</td>\n",
              "      <td>741.0</td>\n",
              "      <td>https://calcuonline.com/calculadoras/calculado...</td>\n",
              "      <td>NaN</td>\n",
              "      <td>NaN</td>\n",
              "      <td>Desayuno</td>\n",
              "    </tr>\n",
              "  </tbody>\n",
              "</table>\n",
              "</div>"
            ],
            "text/plain": [
              "  Fecha (dd/mm/aa)  ...                                Unnamed: 11\n",
              "0       2021-08-16  ...                                        NaN\n",
              "1       2021-08-16  ...                                  Tu nombre\n",
              "2       2021-08-16  ...                                        NaN\n",
              "3       2021-08-16  ...  Indicar el momento de consumo en la tabla\n",
              "4       2021-08-17  ...                                   Desayuno\n",
              "\n",
              "[5 rows x 12 columns]"
            ]
          },
          "metadata": {},
          "execution_count": 14
        }
      ]
    },
    {
      "cell_type": "code",
      "metadata": {
        "colab": {
          "base_uri": "https://localhost:8080/"
        },
        "id": "1tTbutmanpLC",
        "outputId": "05cc08aa-9a4a-4653-ff5e-17b5234c1458"
      },
      "source": [
        "datos_consumo.shape\n"
      ],
      "execution_count": null,
      "outputs": [
        {
          "output_type": "execute_result",
          "data": {
            "text/plain": [
              "(194, 12)"
            ]
          },
          "metadata": {},
          "execution_count": 13
        }
      ]
    },
    {
      "cell_type": "code",
      "metadata": {
        "colab": {
          "base_uri": "https://localhost:8080/"
        },
        "id": "IsvFR23jnrbZ",
        "outputId": "21a73924-e166-4c16-a1f6-682aa856412a"
      },
      "source": [
        "datos_consumo.columns\n"
      ],
      "execution_count": null,
      "outputs": [
        {
          "output_type": "execute_result",
          "data": {
            "text/plain": [
              "Index(['Fecha (dd/mm/aa)', 'Momento', 'Nombre alimento', 'Calorías (kcal)',\n",
              "       'Carbohidratos (g)', 'Lípidos/grasas (g)', 'Proteína (g)', 'Sodio (mg)',\n",
              "       'https://www.fatsecret.com.mx/calor%C3%ADas-nutrici%C3%B3n/',\n",
              "       'Unnamed: 9', 'Unnamed: 10', 'Unnamed: 11'],\n",
              "      dtype='object')"
            ]
          },
          "metadata": {},
          "execution_count": 11
        }
      ]
    },
    {
      "cell_type": "code",
      "metadata": {
        "colab": {
          "base_uri": "https://localhost:8080/"
        },
        "id": "VzMSXX67nseY",
        "outputId": "e0164509-ff30-4b1c-d8ab-be91cf9b13af"
      },
      "source": [
        "datos_consumo.dtypes"
      ],
      "execution_count": null,
      "outputs": [
        {
          "output_type": "execute_result",
          "data": {
            "text/plain": [
              "Fecha (dd/mm/aa)                                              datetime64[ns]\n",
              "Momento                                                               object\n",
              "Nombre alimento                                                       object\n",
              "Calorías (kcal)                                                      float64\n",
              "Carbohidratos (g)                                                    float64\n",
              "Lípidos/grasas (g)                                                   float64\n",
              "Proteína (g)                                                         float64\n",
              "Sodio (mg)                                                           float64\n",
              "https://www.fatsecret.com.mx/calor%C3%ADas-nutrici%C3%B3n/            object\n",
              "Unnamed: 9                                                           float64\n",
              "Unnamed: 10                                                           object\n",
              "Unnamed: 11                                                           object\n",
              "dtype: object"
            ]
          },
          "metadata": {},
          "execution_count": 12
        }
      ]
    },
    {
      "cell_type": "markdown",
      "metadata": {
        "id": "AjtqBq8QpsKZ"
      },
      "source": [
        "# **Procedimiento(Parte 1, Programa)**:\n",
        "Para poder realizar este programa lo que se tuvo que realizar fue lo siguiente, primero se tuvo que trabajar en un excel, donde se tienen que ingresar día con día lo que se consume, ingresar las calorías, proteínas, carbohidratos, lípidos, etc. Lo segundo que se hizo fue subir el archivo de excel donde estan los datos a Google Colab. Por último, se crea una variable que muestre el archivo de excel, y por último escribir lo que se desea mostrar, por ejemplo, lo primero que se ingreso en la tabla, la cantidad de filas y tablas que tienen, columnas, tipo de datos, etc.\n",
        "\n"
      ]
    },
    {
      "cell_type": "markdown",
      "metadata": {
        "id": "k_DQ2caVqRbY"
      },
      "source": [
        "Entendimiento de los datos:\n",
        "\n",
        "Para poder realizar un programa de ciencia de datos, tenemos que tener muy presente que tipos de datos se pueden encontrar, ya que cada dato que se nos da, es diferente y te puede ayudar para poder entender o llegar a diferentes valores. Como se menciona en la lectura existen difernetes datos que provienen de la variedad de fuentes, como los siguientes:\n",
        "Datos Existentes: Son datos que incluyen una variedad de datos, como encuestas o páginas web.\n",
        "Datos adquiridos: Son datos que tienen la capacidad de completarse con información externa, como los datos demográficos, datos de la competencia, etc.\n",
        "Datos adicionales: Los datos adicionales son aquellos que cuando las fuentes anteriores no son lo suficiente para llenar los datos necesarios, estas se pueden utilizar para acompletar y dejar claro con más información, estos datos son las redes sociales, artículos, etc. \n",
        "\n",
        "Para clasificar los tipos de datos normalmente se pueden hacer preguntas para saber que son, las preguntas para saber que tipo son pueden ser las siguientes:\n",
        "\"¿Cuáles son tus datos existentes, datos adquiridos y datos adicionales?, ¿Qué tipos de datos se analizarán?, ¿Qué atributos (columnas) de la base de datos parecen más prometedores?,  ¿Qué atributos parecen irrelevantes y pueden ser excluidos?, ¿Cuál es la relación de los datos y la hipótesis del proyecto?\" (Anonimo, s.f.),  etc.\n",
        "\n",
        "Aprende sobre: Entendimiento y clasificación de los datos (Fase 2). (s. f.). Canvas. Recuperado 10 de octubre de 2021, de https://experiencia21.tec.mx/courses/198531/pages/aprende-sobre-entendimiento-y-clasificacion-de-los-datos-fase-2?module_item_id=9163147"
      ]
    },
    {
      "cell_type": "markdown",
      "metadata": {
        "id": "3eU5jF9eupNV"
      },
      "source": [
        "\n",
        "\n",
        "¿Cuáles son tus datos existentes, datos adquiridos y datos adicionales?\n",
        "\n",
        "Mis datos existentes son mi peso, edad, y mi altura.\n",
        "Los datos adquiridos son los datos que agregue extra, las calorías, proteínas, carbohidratos, lípidos, para obtener estos datos, los busque en una página web que me arrojaba los datos que necesitaba para poder hacer una calculadora de calorías y el IMC.\n",
        "Los datos adicionales serían la fecha de consumo, el tipo de comida, etc.\n",
        "\n",
        "• ¿Qué tipos de datos se analizarán?\n",
        "\n",
        "Los datos que se estan analizando son datos correlacionales, ya que dependen cada uno para poder poner en práctica los diferentes programas, como el IMC y la calculadora de calorías.\n",
        "\n",
        "• ¿Qué atributos (columnas) de la base de datos parecen más prometedores?\n",
        "Para mí, todos los datos que se tienen en la base de datos son importantes.\n",
        "De las 4 variables con los nutrientes ¿cuáles son útiles para el análisis?\n",
        "Las variables de carbohidratos, proteínas y lípidos, ya que son los más importantes para nuestra calculadora.\n",
        "\n",
        "• ¿Qué atributos parecen irrelevantes y pueden ser excluidos?\n",
        "La columna de sodio, ya que no se utiliza para nada en la formula que se utiliza.\n",
        "\n",
        "• ¿Hay datos suficientes (filas) para sacar conclusiones generalizables o hacer predicciones precisas?\n",
        "Si, la base de datos cuenta con 194 columnas de información.\n",
        "\n",
        "• ¿Hay demasiados atributos para realizar un modelo que sea fácil de interpretar?\n",
        "La mayoría de los datos con los que se cuenta pueden utilizarse, ya que cuando se realizaron las gráficas para validar el modelo, estas si cumplían los lineamientos requeridos.\n",
        "\n",
        "• ¿De dónde se obtuvieron los datos? \n",
        "Los datos fueron obtenidos primero de mi, ya que yo era el que ponía el nombre del alimento que consumía, después de eso se buscaba en la página que se tiene para ver la cantidad de nutrientes y por ultimo llenarla. ¿Se están fusionando varias fuentes de datos? Si, ¿hay áreas que podrían plantear un problema al fusionar?\n",
        "Se utilizan las diferentes variables como se menciono anteriormente para crear u obtener los resultados de los IMC y las calculadoras de calorías.\n",
        "\n",
        "• ¿Hay algún plan para manejar los valores faltantes en cada una de las fuentes de datos?\n",
        "Para las variables que no cuenten. on algún datos, se planea que se elimine, para poder tener una fuente de datos más organizada.\n",
        "\n",
        "• ¿Cuántos datos están accesibles o disponibles y cómo está la calidad de los mismos?.\n",
        "La cantidad de filas para los datos accesibles son 5, y columnas 193.\n",
        "\n",
        "• ¿Cuál es la relación de los datos y la hipótesis del proyecto?\n",
        "La cantidad de alimento que se consume, y la cantidad de nutrientes y propiedades que tiene cada aliemnto, son las principales variables que afentan a los programas de Python ya antes creados que son para el resultado del IMC que posteriormente tendras, y con las calorías que contiene cada comida."
      ]
    }
  ]
}